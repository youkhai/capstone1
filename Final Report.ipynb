{
 "cells": [
  {
   "cell_type": "markdown",
   "metadata": {},
   "source": [
    "### Introduction:\n",
    "We consider a scenario where immigrants are looking to relocate to a particular city.\n",
    "Our target audience for this project would be young families with school-going children.\n",
    "The purpose of this project is to aid them in making an educated decision when moving into a new environment.\n",
    "In this particular case we will use Scarborough, Toronto as an example.\n",
    "\n",
    "We shall examine certain factors and considerations in our study and aim to come to an informed decision of a specific location.\n",
    "\n",
    "\n",
    "### What are we solving?\n",
    "We seek out statistical data points that could be potential selling points of a location.\n",
    "Lets weigh our decision based on housing and schools. \n",
    "(On the assumption for most families where cost of living and education are of primary concern)\n",
    "\n",
    "- List of houses in terms of housing prices \n",
    "- List of schools in terms of location, fees and ratings\n",
    "\n",
    "\n",
    "Data required and methodology:\n",
    "We will begin by web scraping data similar to past exercises using BeautifulSoup on https://en.wikipedia.org/wiki/List_of_postal_codes_of_Canada:_M\n",
    "\n",
    "We will next use the foursquare API to extract further data related to nearby businesses/operations.\n",
    "We will gather information about venues inside each and every neighborhood.\n",
    "Foursquare will allow us to collate and identify the most common amenities in a particular location of interest.\n",
    "\n",
    "We will use K-means clustering to group Scarborough's neighbourhoods \n",
    "\n",
    "Using these datasets we will aim to visualise our findings in making an educated decision for our target audience.\n",
    "(which in this case would be based on the assumption of a young family with school-going children)\n",
    "\n",
    "We shall aim to provide visualisation on the following:\n",
    "- Map of Clusters in Scarborough\n",
    "- Average Housing Price by Clusters in Scarborough\n",
    "- School Ratings by Clusters in Scarborough\n"
   ]
  },
  {
   "cell_type": "markdown",
   "metadata": {},
   "source": [
    "### Conclusion:\n",
    "Visualizing the bar charts on housing and school ratings, it is fair to acknowledge that there is a positive correlation between Avg housing price and school ratings in general across Scarborough. School ratings tend to run high in neighbourhoods of affluence which is directly reflected by its average house prices."
   ]
  },
  {
   "cell_type": "code",
   "execution_count": null,
   "metadata": {},
   "outputs": [],
   "source": []
  }
 ],
 "metadata": {
  "kernelspec": {
   "display_name": "Python 3",
   "language": "python",
   "name": "python3"
  },
  "language_info": {
   "codemirror_mode": {
    "name": "ipython",
    "version": 3
   },
   "file_extension": ".py",
   "mimetype": "text/x-python",
   "name": "python",
   "nbconvert_exporter": "python",
   "pygments_lexer": "ipython3",
   "version": "3.8.5"
  }
 },
 "nbformat": 4,
 "nbformat_minor": 4
}
