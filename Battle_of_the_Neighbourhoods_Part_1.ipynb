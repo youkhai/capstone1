{
 "cells": [
  {
   "cell_type": "markdown",
   "metadata": {},
   "source": [
    "# Capstone Project - The Battle of Neighborhoods (Week 1)"
   ]
  },
  {
   "cell_type": "markdown",
   "metadata": {},
   "source": [
    "#### A description of the problem and a discussion of the background. (15 marks)\n",
    "\n",
    "\n",
    "### Intro:\n",
    "We consider a scenario where immigrants are looking to relocate to a particular city.\n",
    "The purpose of this Project is to aid them in making an educated decision when moving into a new environment.\n",
    "In this particular case we will use Scarborough, Toronto as an example.\n",
    "\n",
    "We shall examine certain factors and considerations in our study and aim to come to an informed decision of a specific location.\n",
    "\n",
    "\n",
    "### What are we solving?\n",
    "We seek out statistical data points that could be potential selling points of a location.\n",
    "Lets weigh our decision based on housing and schools.\n",
    "\n",
    "- List of houses in terms of housing prices \n",
    "- List of schools in terms of location, fees and ratings\n",
    "\n"
   ]
  },
  {
   "cell_type": "markdown",
   "metadata": {},
   "source": [
    "#### A description of the data and how it will be used to solve the problem. (15 marks)\n",
    "\n",
    "Data required:\n",
    "We will begin by web scraping data similar to past exercises using BeautifulSoup on https://en.wikipedia.org/wiki/List_of_postal_codes_of_Canada:_M\n",
    "\n",
    "We will next use the foursquare API to extract further data related to nearby businesses/operations.\n",
    "We will gather information about venues inside each and every neighborhood.\n",
    "\n",
    "\n",
    "Using these datasets we will aim to visualise our findings in making an educated decision.\n",
    "\n",
    "We shall aim to provide visualisation on the following:\n",
    "- Map of Clusters in Scarborough\n",
    "- Average Housing Price by Clusters in Scarborough\n",
    "- School Ratings by Clusters in Scarborough\n"
   ]
  },
  {
   "cell_type": "code",
   "execution_count": null,
   "metadata": {},
   "outputs": [],
   "source": []
  }
 ],
 "metadata": {
  "kernelspec": {
   "display_name": "Python 3",
   "language": "python",
   "name": "python3"
  },
  "language_info": {
   "codemirror_mode": {
    "name": "ipython",
    "version": 3
   },
   "file_extension": ".py",
   "mimetype": "text/x-python",
   "name": "python",
   "nbconvert_exporter": "python",
   "pygments_lexer": "ipython3",
   "version": "3.8.5"
  }
 },
 "nbformat": 4,
 "nbformat_minor": 4
}
